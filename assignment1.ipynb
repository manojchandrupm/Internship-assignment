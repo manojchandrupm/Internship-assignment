import csv # This module is used for reading and writing data in CSV format.
import random # This module provides functions for generating random numbers, which are used to simulate sales data in this case.
from datetime import date # This imports the date function from the datetime module. It's used to get the current date for the report.
import pandas as pd # This imports the pandas library as pd. Pandas is a powerful library for data manipulation and analysis. It's used here to create a DataFrame from the generated data and write it to the CSV file more efficiently.

def generate_sales(inventory):
  
  sales = []
  for _ in range(4):
    # Generate random sales between 0 and current inventory
    sale = random.randint(0, inventory)
    # Reduce inventory by the sales for the next week
    inventory -= sale
    sales.append(sale)
  return sales

def create_csv(categories_file, output_file):
  
  # Get today's date
  today = date.today().strftime("%d/%m/%Y")

  with open(categories_file, 'r') as csvfile, open(output_file, 'w', newline='') as outfile:
    reader = csv.reader(csvfile)
    writer = csv.writer(outfile)

    # Write header rows
    writer.writerow([f"Period: {today} - {today}"])
    writer.writerow(["Item Name", "Category", "Week #1 Sales", "Week #2 Sales", "Week #3 Sales", "Week #4 Sales"])
    next(reader)

    # Read item data and generate sales
    for row in reader:
      # Handle potential extra columns by assigning remaining values to a list
      item_name = row[0]  
      category = row[1] if len(row) > 1 else '' # Handle cases with missing category
      inventory = random.randint(10, 50)  # Random initial inventory
      sales = generate_sales(inventory)
      writer.writerow([item_name, category] + sales)

if __name__ == "__main__":
  categories_file = "categories.csv"  # Replace with your actual file path
  output_file = f"Monthly Sales Report - {date.today().strftime('%Y-%m-%d')}.csv"
  create_csv(categories_file, output_file)
  print(f"CSV file created: {output_file}")
  print(pd.read_csv(output_file))
